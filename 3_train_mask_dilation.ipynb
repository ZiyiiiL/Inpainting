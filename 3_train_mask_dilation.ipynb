{
 "cells": [
  {
   "cell_type": "code",
   "execution_count": 1,
   "metadata": {},
   "outputs": [],
   "source": [
    "import rasterio\n",
    "import numpy as np\n",
    "from pathlib import Path\n",
    "import os\n",
    "from scipy.ndimage import binary_dilation"
   ]
  },
  {
   "cell_type": "code",
   "execution_count": 2,
   "metadata": {},
   "outputs": [],
   "source": [
    "# mask dilation for data augmentation\n",
    "# 对1进行3个pixel的膨胀\n",
    "def mask_dilation(mask_array, n=3):\n",
    "    structure = np.ones((3, 3), dtype=np.bool_)\n",
    "    dilated_mask = mask_array\n",
    "    for _ in range(n):\n",
    "        dilated_mask = binary_dilation(dilated_mask, structure=structure)\n",
    "    return dilated_mask"
   ]
  },
  {
   "cell_type": "code",
   "execution_count": 13,
   "metadata": {},
   "outputs": [],
   "source": [
    "indir = '/scratch2/ziyliu/pro_data/sate_dataset_V4/train'\n",
    "tiles = [tile.name for tile in Path(indir).iterdir() if tile.is_dir()]\n",
    "\n",
    "for tile in tiles:\n",
    "    if not os.path.exists(indir + '/' + tile + '/mask_dilation3/'):\n",
    "        os.makedirs(indir + '/' + tile + '/mask_dilation3/')\n",
    "    for mask in os.listdir(indir + '/' + tile + '/mask/'):\n",
    "        if mask.endswith(\".tif\"):\n",
    "            mask_path = indir + '/' + tile + '/mask/' + mask\n",
    "            with rasterio.open(mask_path) as src:\n",
    "                mask_array = src.read(1)\n",
    "                mask_profile = src.profile\n",
    "                mask_array[mask_array > 0] = 1\n",
    "\n",
    "                # 对1进行3个pixel的膨胀\n",
    "                mask_array = mask_dilation(mask_array).astype(int)\n",
    "\n",
    "                mask_out_path = indir + '/' + tile + '/mask_dilation3/' + mask\n",
    "                with rasterio.open(mask_out_path, 'w', **mask_profile) as dst:\n",
    "                    dst.write(mask_array, 1)"
   ]
  }
 ],
 "metadata": {
  "kernelspec": {
   "display_name": "Python 3",
   "language": "python",
   "name": "python3"
  },
  "language_info": {
   "codemirror_mode": {
    "name": "ipython",
    "version": 3
   },
   "file_extension": ".py",
   "mimetype": "text/x-python",
   "name": "python",
   "nbconvert_exporter": "python",
   "pygments_lexer": "ipython3",
   "version": "3.10.12"
  }
 },
 "nbformat": 4,
 "nbformat_minor": 2
}

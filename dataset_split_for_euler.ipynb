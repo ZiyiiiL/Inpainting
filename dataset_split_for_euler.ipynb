{
 "cells": [
  {
   "cell_type": "code",
   "execution_count": 1,
   "metadata": {},
   "outputs": [],
   "source": [
    "import os\n",
    "import glob\n",
    "import shutil\n",
    "import numpy as np"
   ]
  },
  {
   "cell_type": "code",
   "execution_count": 4,
   "metadata": {},
   "outputs": [],
   "source": [
    "data_dir = '/scratch2/ziyliu/pro_data/sate_dataset_V4/val_val'\n",
    "\n",
    "mask_paths = sorted(list(glob.glob(os.path.join(data_dir, '**', '*mask*.tif'), recursive=True)))\n",
    "img_paths = [fname.rsplit('_mask', 1)[0]+'.tif' for fname in mask_paths]\n",
    "\n",
    "# 从mask_paths中任意选取6次64个index，并将mask和image都复制粘贴到一个文件夹中\n",
    "\n",
    "rand_idx = np.random.choice(len(mask_paths), 240, replace=False)\n",
    "# rand_idx = np.reshape(rand_idx, (6, 64))\n",
    "\n",
    "# for i in range(6):\n",
    "#     save_dir = os.path.join('/scratch2/ziyliu/Diffusion/for_euler/checkpoint_selection/val_data', 'val_{}'.format(i))\n",
    "#     os.makedirs(save_dir, exist_ok=True)\n",
    "#     for idx in rand_idx[i*64:(i+1)*64]:\n",
    "#         shutil.copy(mask_paths[idx], save_dir)\n",
    "#         shutil.copy(img_paths[idx], save_dir)\n",
    "\n",
    "save_dir = os.path.join('/scratch2/ziyliu/Diffusion/for_euler/checkpoint_selection/val_data_V2/val_data_all')\n",
    "os.makedirs(save_dir, exist_ok=True)\n",
    "for idx in rand_idx:\n",
    "    shutil.copy(mask_paths[idx], save_dir)\n",
    "    shutil.copy(img_paths[idx], save_dir)\n",
    "\n",
    "for i in range(12):\n",
    "    save_dir = os.path.join('/scratch2/ziyliu/Diffusion/for_euler/checkpoint_selection/val_data_V2/val_data_all', 'val_{}'.format(i))\n",
    "    os.makedirs(save_dir, exist_ok=True)\n",
    "    for idx in rand_idx[i*20:(i+1)*20]:\n",
    "        shutil.copy(mask_paths[idx], save_dir)\n",
    "        shutil.copy(img_paths[idx], save_dir)"
   ]
  },
  {
   "cell_type": "code",
   "execution_count": null,
   "metadata": {},
   "outputs": [],
   "source": []
  },
  {
   "cell_type": "code",
   "execution_count": 2,
   "metadata": {},
   "outputs": [],
   "source": [
    "# 把test_test分成30份\n",
    "\n",
    "data_dir = '/scratch2/ziyliu/pro_data/sate_dataset_V4/test_test'\n",
    "\n",
    "mask_paths = sorted(list(glob.glob(os.path.join(data_dir, '**', '*mask*.tif'), recursive=True)))\n",
    "img_paths = [fname.rsplit('_mask', 1)[0]+'.tif' for fname in mask_paths]\n",
    "\n",
    "# save_dir = os.path.join('/scratch2/ziyliu/Diffusion/for_euler/checkpoint_selection/inference_test_data')\n",
    "\n",
    "# 每一组分别存到一个文件夹中\n",
    "for i in range(len(mask_paths)):\n",
    "    save_dir = os.path.join('/scratch2/ziyliu/Diffusion/for_euler/checkpoint_selection/inference_test_data', 'test_test_{}'.format(i+1))\n",
    "    os.makedirs(save_dir, exist_ok=True)\n",
    "    shutil.copy(mask_paths[i], save_dir)\n",
    "    shutil.copy(img_paths[i], save_dir)"
   ]
  },
  {
   "cell_type": "code",
   "execution_count": 2,
   "metadata": {},
   "outputs": [],
   "source": [
    "# 把test_crops分成20份，一份130对\n",
    "data_dir = '/scratch2/ziyliu/pro_data/sate_dataset_V4/test_crops'\n",
    "\n",
    "mask_paths = sorted(list(glob.glob(os.path.join(data_dir, '**', '*mask*.tif'), recursive=True)))\n",
    "img_paths = [fname.rsplit('_mask', 1)[0]+'.tif' for fname in mask_paths]\n",
    "\n",
    "for i in range(20):\n",
    "    save_dir = os.path.join('/scratch2/ziyliu/Diffusion/for_euler/checkpoint_selection/inference_crops_data', 'test_crops_{}'.format(i+1))\n",
    "    os.makedirs(save_dir, exist_ok=True)\n",
    "    for j in range(130):\n",
    "        shutil.copy(mask_paths[i*130+j], save_dir)\n",
    "        shutil.copy(img_paths[i*130+j], save_dir)"
   ]
  }
 ],
 "metadata": {
  "kernelspec": {
   "display_name": "lama",
   "language": "python",
   "name": "python3"
  },
  "language_info": {
   "codemirror_mode": {
    "name": "ipython",
    "version": 3
   },
   "file_extension": ".py",
   "mimetype": "text/x-python",
   "name": "python",
   "nbconvert_exporter": "python",
   "pygments_lexer": "ipython3",
   "version": "3.6.13"
  }
 },
 "nbformat": 4,
 "nbformat_minor": 2
}

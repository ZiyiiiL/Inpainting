{
 "cells": [
  {
   "cell_type": "code",
   "execution_count": 1,
   "metadata": {
    "ExecuteTime": {
     "end_time": "2024-04-26T16:12:51.033357Z",
     "start_time": "2024-04-26T16:12:50.392873Z"
    }
   },
   "outputs": [],
   "source": [
    "import os\n",
    "import glob\n",
    "import rasterio\n",
    "import shutil"
   ]
  },
  {
   "cell_type": "code",
   "execution_count": null,
   "metadata": {},
   "outputs": [],
   "source": [
    "# 找一些具有代表性的crop来比较几种方法的效果"
   ]
  },
  {
   "cell_type": "code",
   "execution_count": 2,
   "metadata": {},
   "outputs": [],
   "source": [
    "base_dir = '/scratch2/ziyliu/pro_data/sate_dataset_V2/test_all'\n",
    "comparedir = '/scratch2/ziyliu/Inpainting/final_comparison/'"
   ]
  },
  {
   "cell_type": "code",
   "execution_count": 3,
   "metadata": {},
   "outputs": [],
   "source": [
    "mask_filenames = sorted(list(glob.glob(os.path.join(base_dir, '**', '*mask*.tif'), recursive=True)))\n",
    "img_filenames = [fname.rsplit('_mask', 1)[0] + '.tif' for fname in mask_filenames]"
   ]
  },
  {
   "cell_type": "code",
   "execution_count": 4,
   "metadata": {},
   "outputs": [
    {
     "name": "stdout",
     "output_type": "stream",
     "text": [
      "3589 3589\n"
     ]
    }
   ],
   "source": [
    "print(len(mask_filenames), len(img_filenames))"
   ]
  },
  {
   "cell_type": "code",
   "execution_count": 5,
   "metadata": {},
   "outputs": [],
   "source": [
    "for img_fname, mask_fname in zip(img_filenames, mask_filenames):\n",
    "    with rasterio.open(img_fname) as src_img:\n",
    "        img_array = src_img.read(1).astype('float32')\n",
    "        img_nodata = img_array == 2 ** 16 - 1\n",
    "    if img_nodata.sum() == 0:\n",
    "        shutil.copy(img_fname, os.path.join(comparedir, os.path.basename(img_fname)))\n",
    "        shutil.copy(mask_fname, os.path.join(comparedir, os.path.basename(mask_fname)))"
   ]
  },
  {
   "cell_type": "code",
   "execution_count": 3,
   "metadata": {
    "ExecuteTime": {
     "end_time": "2024-04-26T16:17:58.576439Z",
     "start_time": "2024-04-26T16:17:51.783686Z"
    }
   },
   "outputs": [],
   "source": [
    "import numpy as np\n",
    "base_dir = '/scratch2/ziyliu/Inpainting/final_comparison/'\n",
    "img_filenames = sorted(list(glob.glob(os.path.join(base_dir, '**', '*_mask*.tif'), recursive=True)))\n",
    "\n",
    "for img_fname in img_filenames:\n",
    "    with rasterio.open(img_fname) as src_img:\n",
    "        profile = src_img.profile\n",
    "    mask_fname = img_fname.replace('.tif', '0.4.tif')\n",
    "    mask_array = np.ones((256, 256), dtype='uint8')\n",
    "    mask_array[:, 256//5*2:] = 0    \n",
    "\n",
    "    with rasterio.open(mask_fname, 'w', **profile) as dst:\n",
    "        dst.write(mask_array, 1)"
   ]
  }
 ],
 "metadata": {
  "kernelspec": {
   "display_name": "Python 3",
   "language": "python",
   "name": "python3"
  },
  "language_info": {
   "codemirror_mode": {
    "name": "ipython",
    "version": 3
   },
   "file_extension": ".py",
   "mimetype": "text/x-python",
   "name": "python",
   "nbconvert_exporter": "python",
   "pygments_lexer": "ipython3",
   "version": "3.10.12"
  }
 },
 "nbformat": 4,
 "nbformat_minor": 2
}
